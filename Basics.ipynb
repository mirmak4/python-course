{
  "nbformat": 4,
  "nbformat_minor": 0,
  "metadata": {
    "colab": {
      "provenance": [],
      "collapsed_sections": [
        "nwp92xEkO_Cu",
        "qO3Yq_crU_aV",
        "1oeabFudXyYd",
        "PyW9m2TRZOEQ",
        "oLqqobsZc6wX"
      ],
      "toc_visible": true,
      "authorship_tag": "ABX9TyPqp39H5T2v5g8Rtz7MFWif",
      "include_colab_link": true
    },
    "kernelspec": {
      "name": "python3",
      "display_name": "Python 3"
    },
    "language_info": {
      "name": "python"
    }
  },
  "cells": [
    {
      "cell_type": "markdown",
      "metadata": {
        "id": "view-in-github",
        "colab_type": "text"
      },
      "source": [
        "<a href=\"https://colab.research.google.com/github/mirmak4/python-course/blob/main/Basics.ipynb\" target=\"_parent\"><img src=\"https://colab.research.google.com/assets/colab-badge.svg\" alt=\"Open In Colab\"/></a>"
      ]
    },
    {
      "cell_type": "markdown",
      "source": [
        "# **Python Unittest Course Exercises**"
      ],
      "metadata": {
        "id": "g0GbcYuIPFXD"
      }
    },
    {
      "cell_type": "markdown",
      "source": [
        "# Unittest framework helpik\n",
        "\n",
        "Place the development code and test code in separate directories.  \n",
        "Use the command python -m unittest discover -v to discover and execute all the tests.  \n",
        "Use the command python -m unittest test_package.test_module -v to run a single test module.  \n",
        "Use the command python -m unittest test_package.test_module.TestClass -v to run a single test class."
      ],
      "metadata": {
        "id": "RI9yPAugSQRf"
      }
    },
    {
      "cell_type": "code",
      "source": [
        "import unittest"
      ],
      "metadata": {
        "id": "uMqklQ6YPCjc"
      },
      "execution_count": 2,
      "outputs": []
    },
    {
      "cell_type": "markdown",
      "source": [
        "# Exercise 1"
      ],
      "metadata": {
        "id": "nwp92xEkO_Cu"
      }
    },
    {
      "cell_type": "code",
      "source": [
        "class TestSplitMethod(unittest.TestCase):\n",
        "  \n",
        "  def test_split_by_default(self):\n",
        "    self.assertEqual('Python Testing'.split(), ['Python', 'Testing'])\n",
        "\n",
        "  def test_split_by_comma(self):\n",
        "    actual = 'open,high,low,close'.split(',')\n",
        "    expected = ['open', 'high', 'low', 'close']\n",
        "    self.assertEqual(actual, expected)\n",
        "\n",
        "  def test_split_by_hash(self):\n",
        "    actual = 'summer#time#vibes'.split('#')\n",
        "    expected = ['summer', 'time', 'vibes']\n",
        "    self.assertEqual(actual, expected)"
      ],
      "metadata": {
        "id": "srlzStqiPXJm"
      },
      "execution_count": null,
      "outputs": []
    },
    {
      "cell_type": "code",
      "source": [],
      "metadata": {
        "id": "gEI3gqUmTW74"
      },
      "execution_count": null,
      "outputs": []
    },
    {
      "cell_type": "markdown",
      "source": [
        "# Exercise 2"
      ],
      "metadata": {
        "id": "qO3Yq_crU_aV"
      }
    },
    {
      "cell_type": "code",
      "source": [
        "class TestJoinMethod(unittest.TestCase):\n",
        "  \n",
        "  def test_join_with_space(self):\n",
        "    actual = ' '.join(['Python', '3.8'])\n",
        "    expected = 'Python 3.8'\n",
        "    self.assertEqual(actual, expected)\n",
        "\n",
        "  def test_join_with_comma(self):\n",
        "    actual = ','.join(['open', 'high', 'low', 'close'])\n",
        "    expected = 'open,high,low,close'\n",
        "    self.assertEqual(actual, expected)\n",
        "\n",
        "  def test_join_with_new_line_char(self):\n",
        "    actual = '\\n'.join(['open', 'high', 'low', 'close'])\n",
        "    expected = 'open\\nhigh\\nlow\\nclose'\n",
        "    self.assertEqual(actual, expected)"
      ],
      "metadata": {
        "id": "x7Eg5LrlVCP1"
      },
      "execution_count": null,
      "outputs": []
    },
    {
      "cell_type": "markdown",
      "source": [
        "# Exercise 4"
      ],
      "metadata": {
        "id": "1oeabFudXyYd"
      }
    },
    {
      "cell_type": "code",
      "source": [
        "from collections import Counter\n",
        "\n",
        "\n",
        "class TestIsInstance(unittest.TestCase):\n",
        "\n",
        "    def test_case_1(self):\n",
        "        self.assertTrue(isinstance((), tuple))\n",
        "\n",
        "    def test_case_2(self):\n",
        "        self.assertTrue(isinstance([], list))\n",
        "\n",
        "    def test_case_3(self):\n",
        "        self.assertTrue(isinstance({}, dict))\n",
        "\n",
        "    def test_case_4(self):\n",
        "        cnt = Counter()\n",
        "        self.assertTrue(isinstance(cnt, Counter))\n",
        "\n",
        "    def test_case_5(self):\n",
        "        var1 = 4\n",
        "        self.assertTrue(isinstance(var1, int))\n",
        "\n",
        "    def test_case_6(self):\n",
        "        var2 = 4,\n",
        "        self.assertTrue(isinstance(var2, tuple))"
      ],
      "metadata": {
        "id": "ScgwVh6fWI3g"
      },
      "execution_count": null,
      "outputs": []
    },
    {
      "cell_type": "code",
      "source": [
        "test = TestIsInstance()\n",
        "test.test_case_6()"
      ],
      "metadata": {
        "id": "9dnpJTp4YMPh"
      },
      "execution_count": null,
      "outputs": []
    },
    {
      "cell_type": "markdown",
      "source": [
        "# Exercise 5"
      ],
      "metadata": {
        "id": "PyW9m2TRZOEQ"
      }
    },
    {
      "cell_type": "code",
      "source": [
        "class TestUpper (unittest.TestCase):\n",
        "    def test_upper(self):\n",
        "        actual = 'summer'.upper()\n",
        "        expected = 'SUMMER'\n",
        "        self.assertEqual(actual, expected)\n",
        "\n",
        "    def test_is_upper(self):\n",
        "        self.assertTrue('SUMMER'.isupper())\n",
        "        self.assertFalse('summer'.isupper())"
      ],
      "metadata": {
        "id": "uP1qUReKY2jx"
      },
      "execution_count": null,
      "outputs": []
    },
    {
      "cell_type": "code",
      "source": [
        "test_upper = TestUpper()\n",
        "test_upper.test_upper()\n",
        "test_upper.test_is_upper()"
      ],
      "metadata": {
        "id": "ZAl8wayTa6Oo"
      },
      "execution_count": null,
      "outputs": []
    },
    {
      "cell_type": "markdown",
      "source": [
        "# Exercise 6"
      ],
      "metadata": {
        "id": "JsnX9YghbZkP"
      }
    },
    {
      "cell_type": "code",
      "source": [
        "class TestLower (unittest.TestCase):\n",
        "    def test_lower(self):\n",
        "        actual = 'Joe.Smith@mail.com'.lower()\n",
        "        expected = 'joe.smith@mail.com'\n",
        "        self.assertEqual(actual, expected)\n",
        "\n",
        "    def test_is_lower(self):\n",
        "        self.assertTrue('joe.smith@mail.com'.islower())\n",
        "        self.assertFalse('Joe.Smith@mail.com'.islower())"
      ],
      "metadata": {
        "id": "GItBG2XtbE_R"
      },
      "execution_count": null,
      "outputs": []
    },
    {
      "cell_type": "code",
      "source": [
        "test_lower = TestLower()\n",
        "test_lower.test_lower()\n",
        "test_lower.test_is_lower()"
      ],
      "metadata": {
        "id": "De74x1__b7Yz"
      },
      "execution_count": null,
      "outputs": []
    },
    {
      "cell_type": "markdown",
      "source": [
        "# Exercise 7"
      ],
      "metadata": {
        "id": "oLqqobsZc6wX"
      }
    },
    {
      "cell_type": "code",
      "source": [
        "class TestStartswithMethod (unittest.TestCase):\n",
        "    def test_startswith_one_letter(self):\n",
        "        self.assertTrue('unittest'.startswith('u'))\n",
        "        self.assertFalse('unittest'.startswith('U'))\n",
        "\n",
        "    def test_startswith_four_letters(self):\n",
        "        self.assertTrue('http://www.e-smartdata.org/'.startswith('http'))\n",
        "        self.assertFalse('www.e-smartdata.org/'.startswith('http'))\n",
        "\n",
        "class TestEndswithMethod (unittest.TestCase):\n",
        "    def test_endswith_three_letter(self):\n",
        "        self.assertTrue('e-smartdata.org'.endswith('org'))\n",
        "        self.assertFalse('e-smartdata.org'.endswith('com'))"
      ],
      "metadata": {
        "id": "G9tI9IadcMar"
      },
      "execution_count": 11,
      "outputs": []
    },
    {
      "cell_type": "code",
      "source": [
        "test_starts = TestStartswithMethod()\n",
        "test_starts.test_startswith_one_letter()\n",
        "test_starts.test_startswith_four_letters()"
      ],
      "metadata": {
        "id": "xyE8ZkBpdUds"
      },
      "execution_count": 12,
      "outputs": []
    },
    {
      "cell_type": "code",
      "source": [
        "test_ends = TestEndswithMethod()\n",
        "test_ends.test_endswith_three_letter()"
      ],
      "metadata": {
        "id": "k-8W6cCWdm8i"
      },
      "execution_count": 13,
      "outputs": []
    },
    {
      "cell_type": "markdown",
      "source": [
        "# Exercise 8"
      ],
      "metadata": {
        "id": "71JbeLezfS4U"
      }
    },
    {
      "cell_type": "code",
      "source": [
        "class TestLstripMethod(unittest.TestCase):\n",
        " \n",
        "    def test_lstrip_with_space(self):\n",
        "        self.assertEqual('  price,volume  '.lstrip(), 'price,volume  ')\n",
        " \n",
        "    def test_lstrip_with_new_line_char(self):\n",
        "        self.assertEqual('\\nprice,volume\\n'.lstrip(), 'price,volume\\n')\n",
        " \n",
        " \n",
        "class TestStripMethod(unittest.TestCase):\n",
        " \n",
        "    def test_strip_with_space(self):\n",
        "        self.assertEqual('  price,volume  '.strip(), 'price,volume')\n",
        " \n",
        "    def test_strip_with_new_line_char(self):\n",
        "        self.assertEqual('\\nprice,volume\\n'.strip(), 'price,volume')\n",
        " \n",
        " \n",
        "class TestRstripMethod(unittest.TestCase):\n",
        " \n",
        "    def test_rstrip_with_space(self):\n",
        "        self.assertEqual('  price,volume  '.rstrip(), '  price,volume')\n",
        " \n",
        "    def test_rstrip_with_new_line_char(self):\n",
        "        self.assertEqual('\\nprice,volume\\n'.rstrip(), '\\nprice,volume')"
      ],
      "metadata": {
        "id": "sAS_W6Qzdn4-"
      },
      "execution_count": 33,
      "outputs": []
    },
    {
      "cell_type": "code",
      "source": [
        "l_stripper = TestLstripMethod()\n",
        "l_stripper.test_lstrip_with_space()\n",
        "l_stripper.test_lstrip_with_new_line_char()"
      ],
      "metadata": {
        "id": "slGmzYnUkOzs"
      },
      "execution_count": 34,
      "outputs": []
    },
    {
      "cell_type": "code",
      "source": [
        "stripper = TestStripMethod()\n",
        "stripper.test_strip_with_space()\n",
        "stripper.test_strip_with_new_line_char()"
      ],
      "metadata": {
        "id": "0puX7nWykf17"
      },
      "execution_count": 35,
      "outputs": []
    },
    {
      "cell_type": "code",
      "source": [
        "r_stripper = TestRstripMethod()\n",
        "r_stripper.test_rstrip_with_space()\n",
        "r_stripper.test_rstrip_with_new_line_char()"
      ],
      "metadata": {
        "id": "Yv2OILCgkiD6"
      },
      "execution_count": 36,
      "outputs": []
    },
    {
      "cell_type": "code",
      "source": [],
      "metadata": {
        "id": "HK1mu2J8kkfW"
      },
      "execution_count": null,
      "outputs": []
    }
  ]
}