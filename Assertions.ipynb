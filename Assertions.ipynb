{
  "nbformat": 4,
  "nbformat_minor": 0,
  "metadata": {
    "colab": {
      "provenance": [],
      "collapsed_sections": [
        "cE2TDfYYqReS",
        "I0PO8JTwBlS5",
        "Q7So5Ro5GA4Y",
        "4Y4bc2P-J2nw",
        "GbGaWw_8LaOy",
        "XLnOxrc5PQkx",
        "J8FTKR2DS8UB"
      ],
      "toc_visible": true,
      "authorship_tag": "ABX9TyM7pQQKi38JF3yURrxdMn84",
      "include_colab_link": true
    },
    "kernelspec": {
      "name": "python3",
      "display_name": "Python 3"
    },
    "language_info": {
      "name": "python"
    }
  },
  "cells": [
    {
      "cell_type": "markdown",
      "metadata": {
        "id": "view-in-github",
        "colab_type": "text"
      },
      "source": [
        "<a href=\"https://colab.research.google.com/github/mirmak4/python-course/blob/main/Assertions.ipynb\" target=\"_parent\"><img src=\"https://colab.research.google.com/assets/colab-badge.svg\" alt=\"Open In Colab\"/></a>"
      ]
    },
    {
      "cell_type": "markdown",
      "source": [
        "# Python Unittest framework course"
      ],
      "metadata": {
        "id": "aPhMoyzjp-Q2"
      }
    },
    {
      "cell_type": "code",
      "source": [
        "import unittest"
      ],
      "metadata": {
        "id": "wIOl6EjvqgSS"
      },
      "execution_count": 1,
      "outputs": []
    },
    {
      "cell_type": "markdown",
      "source": [
        "# Exercise 1"
      ],
      "metadata": {
        "id": "cE2TDfYYqReS"
      }
    },
    {
      "cell_type": "code",
      "execution_count": 2,
      "metadata": {
        "id": "OYR5cyJVp3-1"
      },
      "outputs": [],
      "source": [
        "def calculate_daily_return(open, close):\n",
        "    return round((close / open - 1) * 100, 2)"
      ]
    },
    {
      "cell_type": "code",
      "source": [
        "class TestCalculateDailyReturn(unittest.TestCase):\n",
        "    def test_positive_return(self):\n",
        "        daily_return = calculate_daily_return(349.0, 360.0)\n",
        "        self.assertEqual(daily_return, 3.15)\n",
        "\n",
        "    def test_negative_return(self):\n",
        "        daily_return = calculate_daily_return(349.0, 340.0)\n",
        "        self.assertEqual(daily_return, -2.58)\n",
        "\n",
        "    def test_zero_return(self):\n",
        "        daily_return = calculate_daily_return(349.0, 349.0)\n",
        "        self.assertEqual(daily_return, 0.0)"
      ],
      "metadata": {
        "id": "ET6r4FlErJ_9"
      },
      "execution_count": 9,
      "outputs": []
    },
    {
      "cell_type": "code",
      "source": [
        "test_return = TestCalculateDailyReturn()\n",
        "test_return.test_positive_return()\n",
        "test_return.test_negative_return()\n",
        "test_return.test_zero_return()"
      ],
      "metadata": {
        "id": "x_yX7qt0rsSK"
      },
      "execution_count": 10,
      "outputs": []
    },
    {
      "cell_type": "code",
      "source": [],
      "metadata": {
        "id": "BkZFdBp0r5kf"
      },
      "execution_count": null,
      "outputs": []
    },
    {
      "cell_type": "markdown",
      "source": [
        "# Exercise 2"
      ],
      "metadata": {
        "id": "I0PO8JTwBlS5"
      }
    },
    {
      "cell_type": "code",
      "source": [
        "class TestCalculateDailyReturn(unittest.TestCase):\n",
        "    def test_positive_return(self):\n",
        "        daily_return = calculate_daily_return(349.0, 360.0)\n",
        "        self.assertAlmostEqual(daily_return, 3.1504832908, 2)\n",
        "\n",
        "    def test_negative_return(self):\n",
        "        daily_return = calculate_daily_return(349.0, 340.0)\n",
        "        self.assertAlmostEqual(daily_return, -2.5810390, 2)\n",
        "\n",
        "    def test_zero_return(self):\n",
        "        daily_return = calculate_daily_return(349.0, 349.0)\n",
        "        self.assertAlmostEqual(daily_return, 0)"
      ],
      "metadata": {
        "id": "DkY4F6v6Bn9d"
      },
      "execution_count": 36,
      "outputs": []
    },
    {
      "cell_type": "code",
      "source": [
        "test_return = TestCalculateDailyReturn()\n",
        "test_return.test_positive_return()\n",
        "test_return.test_negative_return()\n",
        "test_return.test_zero_return()"
      ],
      "metadata": {
        "id": "K1Qcf_80BpCw"
      },
      "execution_count": 37,
      "outputs": []
    },
    {
      "cell_type": "code",
      "source": [],
      "metadata": {
        "id": "uECEHv04EPA_"
      },
      "execution_count": null,
      "outputs": []
    },
    {
      "cell_type": "markdown",
      "source": [
        "# Exercise 3"
      ],
      "metadata": {
        "id": "Q7So5Ro5GA4Y"
      }
    },
    {
      "cell_type": "code",
      "source": [
        "class Doc:\n",
        " \n",
        "    def __init__(self, string):\n",
        "        self.string = string\n",
        "        \n",
        "    def __repr__(self):\n",
        "        return f\"Doc(string='{self.string}')\"\n",
        " \n",
        "    def __lt__(self, other):\n",
        "        return len(self.string) < len(other.string)"
      ],
      "metadata": {
        "id": "KtYWV3lkGEFn"
      },
      "execution_count": 79,
      "outputs": []
    },
    {
      "cell_type": "code",
      "source": [
        "class TestDoc(unittest.TestCase):\n",
        "    doc1 = Doc('Technology')\n",
        "    doc2 = Doc('Online')\n",
        "    doc3 = Doc('Nature')\n",
        "\n",
        "    def test_less_than(self):\n",
        "        self.assertLess(self.doc2, self.doc1)\n",
        "        self.assertLess(self.doc3, self.doc1)\n",
        "\n",
        "    def test_greater_than(self):\n",
        "        self.assertGreater(self.doc1, self.doc2)\n",
        "        self.assertGreater(self.doc1, self.doc3)\n"
      ],
      "metadata": {
        "id": "co6yUR9xGeiy"
      },
      "execution_count": 80,
      "outputs": []
    },
    {
      "cell_type": "code",
      "source": [
        "test_doc = TestDoc()\n",
        "test_doc.test_less_than()\n",
        "test_doc.test_greater_than()"
      ],
      "metadata": {
        "id": "0XMZpd5pGmam"
      },
      "execution_count": 81,
      "outputs": []
    },
    {
      "cell_type": "code",
      "source": [],
      "metadata": {
        "id": "UQ9OM4MzIXVJ"
      },
      "execution_count": null,
      "outputs": []
    },
    {
      "cell_type": "markdown",
      "source": [
        "# Exercise 4"
      ],
      "metadata": {
        "id": "4Y4bc2P-J2nw"
      }
    },
    {
      "cell_type": "code",
      "source": [
        "class Doc:\n",
        " \n",
        "    def __init__(self, string):\n",
        "        self.string = string\n",
        " \n",
        "    def __repr__(self):\n",
        "        return f\"Doc(string='{self.string}')\"\n",
        " \n",
        "    def __eq__(self, other):\n",
        "        return len(self.string) == len(other.string)"
      ],
      "metadata": {
        "id": "BSh8FbcPJ5LW"
      },
      "execution_count": 82,
      "outputs": []
    },
    {
      "cell_type": "code",
      "source": [
        "class TestDoc(unittest.TestCase):\n",
        "    def test_equal(self):\n",
        "        doc1 = Doc('Online')\n",
        "        doc2 = Doc('Nature')\n",
        "        self.assertEqual(doc1, doc2)\n",
        "\n",
        "    def test_not_equal(self):\n",
        "        doc1 = Doc('Online')\n",
        "        doc2 = Doc('Nature')\n",
        "        doc3 = Doc('Technology')\n",
        "        self.assertNotEqual(doc1, doc3)\n",
        "        self.assertNotEqual(doc2, doc3)"
      ],
      "metadata": {
        "id": "yy_rTONYJ8wA"
      },
      "execution_count": 86,
      "outputs": []
    },
    {
      "cell_type": "code",
      "source": [
        "test_doc = TestDoc()\n",
        "test_doc.test_equal()\n",
        "test_doc.test_not_equal()"
      ],
      "metadata": {
        "id": "2eE_BDGyKC7L"
      },
      "execution_count": 88,
      "outputs": []
    },
    {
      "cell_type": "markdown",
      "source": [
        "# Exercise 5"
      ],
      "metadata": {
        "id": "GbGaWw_8LaOy"
      }
    },
    {
      "cell_type": "code",
      "source": [
        "class Employee:\n",
        "    \"\"\"A simple class that describes an employee of the company.\"\"\"\n",
        " \n",
        "    tax_rate = 0.17\n",
        "    bonus_rate = 0.10\n",
        " \n",
        "    def __init__(self, first_name, last_name, salary):\n",
        "        self.first_name = first_name\n",
        "        self.last_name = last_name\n",
        "        self.salary = salary\n",
        " \n",
        "    def __str__(self):\n",
        "        return f'{self.first_name} {self.last_name}'\n",
        " \n",
        "    @property\n",
        "    def email(self):\n",
        "        return f'{self.first_name.lower()}.{self.last_name.lower()}@mail.com'\n",
        " \n",
        "    @property\n",
        "    def tax(self):\n",
        "        return round(self.salary * self.tax_rate, 2)\n",
        " \n",
        "    def apply_bonus(self):\n",
        "        self.salary = int(self.salary * (1 + self.bonus_rate))"
      ],
      "metadata": {
        "id": "r40TnhJqLc7R"
      },
      "execution_count": 89,
      "outputs": []
    },
    {
      "cell_type": "code",
      "source": [
        "class TestEmployee(unittest.TestCase):\n",
        "    def test_has_email_attr(self):\n",
        "        msg = 'The Employee class does not have an email attribute.'\n",
        "        self.assertTrue(hasattr(Employee, 'email'), msg)\n",
        "\n",
        "    def test_has_tax_attr(self):\n",
        "        msg = 'The Employee class does not have a tax attribute.'\n",
        "        self.assertTrue(hasattr(Employee, 'tax'), msg)\n",
        "\n",
        "    def test_has_apply_bonus(self):\n",
        "        msg = 'The Employee class does not have an apply_bonus attribute.'\n",
        "        self.assertTrue(hasattr(Employee, 'apply_bonus'), msg)"
      ],
      "metadata": {
        "id": "9jQe1bbPLt3_"
      },
      "execution_count": 111,
      "outputs": []
    },
    {
      "cell_type": "code",
      "source": [
        "test_emp = TestEmployee()\n",
        "test_emp.test_has_apply_bonus()\n",
        "test_emp.test_has_email_attr()\n",
        "test_emp.test_has_tax_attr()"
      ],
      "metadata": {
        "id": "CECwQGIVMeIP"
      },
      "execution_count": 112,
      "outputs": []
    },
    {
      "cell_type": "markdown",
      "source": [
        "# Exercise 6"
      ],
      "metadata": {
        "id": "XLnOxrc5PQkx"
      }
    },
    {
      "cell_type": "code",
      "source": [
        "class Employee:\n",
        "    \"\"\"A simple class that describes an employee of the company.\"\"\"\n",
        "\n",
        "    tax_rate = 0.17\n",
        "    bonus_rate = 0.10\n",
        "\n",
        "    def __init__(self, first_name, last_name, salary):\n",
        "        self.first_name = first_name\n",
        "        self.last_name = last_name\n",
        "        self.salary = salary\n",
        "\n",
        "    def __str__(self):\n",
        "        return f'{self.first_name} {self.last_name}'\n",
        "\n",
        "    @property\n",
        "    def email(self):\n",
        "        return (\n",
        "            f'{self.first_name.lower()}.{self.last_name.lower()}'\n",
        "            '@mail.com'\n",
        "        )\n",
        "\n",
        "    @property\n",
        "    def tax(self):\n",
        "        return round(self.salary * self.tax_rate, 2)\n",
        "\n",
        "    def apply_bonus(self):\n",
        "        self.salary = int(self.salary * (1 + self.bonus_rate))"
      ],
      "metadata": {
        "id": "nRPtslT8RHAg"
      },
      "execution_count": 122,
      "outputs": []
    },
    {
      "cell_type": "code",
      "source": [
        "class TestEmployee(unittest.TestCase):\n",
        "    def test_has_email_attr(self):\n",
        "        msg = 'The Employee class does not have an email attribute.'\n",
        "        self.assertTrue(hasattr(Employee, 'email'), msg)\n",
        "\n",
        "    def test_has_email_property(self):\n",
        "        self.assertIsInstance(Employee.email, property)"
      ],
      "metadata": {
        "id": "5lAPJmjYRN3D"
      },
      "execution_count": 126,
      "outputs": []
    },
    {
      "cell_type": "code",
      "source": [
        "test_emp = TestEmployee()\n",
        "test_emp.test_has_email_attr()\n",
        "test_emp.test_has_email_property()"
      ],
      "metadata": {
        "id": "pbXUeidFRV_5"
      },
      "execution_count": 127,
      "outputs": []
    },
    {
      "cell_type": "markdown",
      "source": [
        "# Exercise 7"
      ],
      "metadata": {
        "id": "J8FTKR2DS8UB"
      }
    },
    {
      "cell_type": "code",
      "source": [
        "class StringListOnly(list):\n",
        "\n",
        "    def append(self, string):\n",
        "        if not isinstance(string, str):\n",
        "            raise TypeError('Only object of type str can be added to the list.')\n",
        "        super().append(string)"
      ],
      "metadata": {
        "id": "AfbZ9NZmTA1A"
      },
      "execution_count": 128,
      "outputs": []
    },
    {
      "cell_type": "code",
      "source": [
        "class TestStringListOnly (unittest.TestCase):\n",
        "    def test_append_string(self):\n",
        "        str_list = StringListOnly()\n",
        "        str_list.append('Ronnie')\n",
        "        str_list.append(\"Valentino\")\n",
        "        str_list.append(\"Maciek\")\n",
        "        self.assertIn('Maciek', str_list)\n",
        "        self.assertIn('Valentino', str_list)\n",
        "        self.assertIn('Ronnie', str_list)\n",
        "\n",
        "    def test_append_not_string_should_raise_error(self):\n",
        "        str_list = StringListOnly()\n",
        "        self.assertRaises(TypeError, str_list.append, [1, 2, 3, 4])\n",
        "        self.assertRaises(TypeError, str_list.append, True)"
      ],
      "metadata": {
        "id": "5F7tD9I7TEos"
      },
      "execution_count": 152,
      "outputs": []
    },
    {
      "cell_type": "code",
      "source": [
        "test_str_list = TestStringListOnly()\n",
        "test_str_list.test_append_string()\n",
        "test_str_list.test_append_not_string_should_raise_error()"
      ],
      "metadata": {
        "id": "IVFZFyfgTjtr"
      },
      "execution_count": 153,
      "outputs": []
    },
    {
      "cell_type": "code",
      "source": [],
      "metadata": {
        "id": "nRZ1uokXULsL"
      },
      "execution_count": null,
      "outputs": []
    },
    {
      "cell_type": "markdown",
      "source": [
        "# Exercise 8"
      ],
      "metadata": {
        "id": "029SWxd7XqAk"
      }
    },
    {
      "cell_type": "code",
      "source": [
        "class StringListOnly(list):\n",
        "\n",
        "    def append(self, string):\n",
        "        if not isinstance(string, str):\n",
        "            raise TypeError('Only object of type str can be added to the list.')\n",
        "        super().append(string)"
      ],
      "metadata": {
        "id": "CugOGCo7Xr7m"
      },
      "execution_count": 154,
      "outputs": []
    },
    {
      "cell_type": "code",
      "source": [
        "class TestStringListOnly (unittest.TestCase):\n",
        "    def test_slo_is_instance(self):\n",
        "        slo = StringListOnly()\n",
        "        self.assertIsInstance(slo, StringListOnly)\n",
        "        self.assertIsInstance(slo, list)"
      ],
      "metadata": {
        "id": "2qnjIu_fXwJs"
      },
      "execution_count": 162,
      "outputs": []
    },
    {
      "cell_type": "code",
      "source": [
        "test_slo = TestStringListOnly()\n",
        "test_slo.test_slo_is_instance()"
      ],
      "metadata": {
        "id": "Z3JjHimGX1FO"
      },
      "execution_count": 163,
      "outputs": []
    },
    {
      "cell_type": "code",
      "source": [],
      "metadata": {
        "id": "PhX2mZanYAQE"
      },
      "execution_count": null,
      "outputs": []
    }
  ]
}