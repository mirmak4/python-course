{
  "nbformat": 4,
  "nbformat_minor": 0,
  "metadata": {
    "colab": {
      "provenance": [],
      "collapsed_sections": [
        "FWsELdpVxkLz"
      ],
      "toc_visible": true,
      "authorship_tag": "ABX9TyOBCw80YZKOIYWuAvv0lGY9",
      "include_colab_link": true
    },
    "kernelspec": {
      "name": "python3",
      "display_name": "Python 3"
    },
    "language_info": {
      "name": "python"
    }
  },
  "cells": [
    {
      "cell_type": "markdown",
      "metadata": {
        "id": "view-in-github",
        "colab_type": "text"
      },
      "source": [
        "<a href=\"https://colab.research.google.com/github/mirmak4/python-course/blob/main/Skipper.ipynb\" target=\"_parent\"><img src=\"https://colab.research.google.com/assets/colab-badge.svg\" alt=\"Open In Colab\"/></a>"
      ]
    },
    {
      "cell_type": "markdown",
      "source": [
        "# Python Unittest framework course"
      ],
      "metadata": {
        "id": "Nh2nnuVhxZJL"
      }
    },
    {
      "cell_type": "code",
      "source": [
        "import unittest"
      ],
      "metadata": {
        "id": "yfFlKGaWxrA1"
      },
      "execution_count": 3,
      "outputs": []
    },
    {
      "cell_type": "markdown",
      "source": [
        "# Exercise 1"
      ],
      "metadata": {
        "id": "FWsELdpVxkLz"
      }
    },
    {
      "cell_type": "code",
      "execution_count": 28,
      "metadata": {
        "id": "_6YmPg7PxIsC"
      },
      "outputs": [],
      "source": [
        "class Container:\n",
        "    pass\n",
        "\n",
        "\n",
        "class TestContainer(unittest.TestCase):\n",
        "\n",
        "    def disabled(f):\n",
        "        def _decorator(self):\n",
        "            print('The Container class requires implementation.')\n",
        "            # print(f.__name__ + ' has been disabled')\n",
        "        return _decorator\n",
        "\n",
        "    def test_container(self):\n",
        "        self.assertIsInstance(Container, type)\n",
        "\n",
        "    @disabled\n",
        "    def test_has_code_attribute(self):\n",
        "        msg = 'The Container class does not have a code attribute.'\n",
        "        self.assertTrue(hasattr(Container, 'code'), msg)\n",
        "\n",
        "    @unittest.skip\n",
        "    def test_skip(self):\n",
        "        assert False"
      ]
    },
    {
      "cell_type": "code",
      "source": [
        "test_container = TestContainer()\n",
        "test_container.test_container()\n",
        "test_container.test_has_code_attribute()\n",
        "test_container.test_skip()"
      ],
      "metadata": {
        "colab": {
          "base_uri": "https://localhost:8080/"
        },
        "id": "Vn47xbyJxz5J",
        "outputId": "cc0625a6-44f3-4dfe-c213-8c106861e0ef"
      },
      "execution_count": 29,
      "outputs": [
        {
          "output_type": "stream",
          "name": "stdout",
          "text": [
            "The Container class requires implementation.\n"
          ]
        },
        {
          "output_type": "execute_result",
          "data": {
            "text/plain": [
              "<function __main__.skip.<locals>.decorator.<locals>.skip_wrapper(*args, **kwds)>"
            ]
          },
          "metadata": {},
          "execution_count": 29
        }
      ]
    },
    {
      "cell_type": "code",
      "source": [],
      "metadata": {
        "id": "0ut6wMSiyI2q"
      },
      "execution_count": null,
      "outputs": []
    },
    {
      "cell_type": "markdown",
      "source": [
        "# Exercise 2"
      ],
      "metadata": {
        "id": "cTbdmRJr4SLu"
      }
    },
    {
      "cell_type": "code",
      "source": [
        "from datetime import date\n",
        "\n",
        "\n",
        "class Container:\n",
        "\n",
        "    def __init__(self):\n",
        "        if date.today().day % 2 == 0:\n",
        "            self.code = 'XC-0'\n",
        "        else:\n",
        "            self.code = 'XC-1'\n",
        "\n",
        "\n",
        "class TestContainer(unittest.TestCase):\n",
        "\n",
        "    def isEvenDay():\n",
        "        return date.today().day % 2 == 0\n",
        "        \n",
        "    @unittest.skipIf(isEvenDay() == False, 'Skipping odd days.')\n",
        "    def test_skipping_odd_days(self):\n",
        "        c = Container()\n",
        "        self.assertTrue(c.code.endswith('0'), 'Invalid code attribute.')\n",
        "\n",
        "    @unittest.skipIf(isEvenDay(), 'Skipping even days.')\n",
        "    def test_skipping_even_days(self):\n",
        "        c = Container()\n",
        "        self.assertTrue(c.code.endswith('1'), 'Invalid code attribute.')"
      ],
      "metadata": {
        "id": "1b3J-aK24U70"
      },
      "execution_count": 6,
      "outputs": []
    },
    {
      "cell_type": "code",
      "source": [
        "testContainer = TestContainer()\n",
        "testContainer.test_skipping_even_days()\n",
        "testContainer.test_skipping_odd_days()"
      ],
      "metadata": {
        "colab": {
          "base_uri": "https://localhost:8080/",
          "height": 321
        },
        "id": "lBRyJK9FnxCg",
        "outputId": "e95923d3-62ea-4c40-a37b-c8bb0ede80f5"
      },
      "execution_count": 7,
      "outputs": [
        {
          "output_type": "error",
          "ename": "SkipTest",
          "evalue": "ignored",
          "traceback": [
            "\u001b[0;31m---------------------------------------------------------------------------\u001b[0m",
            "\u001b[0;31mSkipTest\u001b[0m                                  Traceback (most recent call last)",
            "\u001b[0;32m<ipython-input-7-65fd16592951>\u001b[0m in \u001b[0;36m<module>\u001b[0;34m\u001b[0m\n\u001b[1;32m      1\u001b[0m \u001b[0mtestContainer\u001b[0m \u001b[0;34m=\u001b[0m \u001b[0mTestContainer\u001b[0m\u001b[0;34m(\u001b[0m\u001b[0;34m)\u001b[0m\u001b[0;34m\u001b[0m\u001b[0;34m\u001b[0m\u001b[0m\n\u001b[0;32m----> 2\u001b[0;31m \u001b[0mtestContainer\u001b[0m\u001b[0;34m.\u001b[0m\u001b[0mtest_skipping_even_days\u001b[0m\u001b[0;34m(\u001b[0m\u001b[0;34m)\u001b[0m\u001b[0;34m\u001b[0m\u001b[0;34m\u001b[0m\u001b[0m\n\u001b[0m\u001b[1;32m      3\u001b[0m \u001b[0mtestContainer\u001b[0m\u001b[0;34m.\u001b[0m\u001b[0mtest_skipping_odd_days\u001b[0m\u001b[0;34m(\u001b[0m\u001b[0;34m)\u001b[0m\u001b[0;34m\u001b[0m\u001b[0;34m\u001b[0m\u001b[0m\n",
            "\u001b[0;32m/usr/lib/python3.7/unittest/case.py\u001b[0m in \u001b[0;36mskip_wrapper\u001b[0;34m(*args, **kwargs)\u001b[0m\n\u001b[1;32m     93\u001b[0m             \u001b[0;34m@\u001b[0m\u001b[0mfunctools\u001b[0m\u001b[0;34m.\u001b[0m\u001b[0mwraps\u001b[0m\u001b[0;34m(\u001b[0m\u001b[0mtest_item\u001b[0m\u001b[0;34m)\u001b[0m\u001b[0;34m\u001b[0m\u001b[0;34m\u001b[0m\u001b[0m\n\u001b[1;32m     94\u001b[0m             \u001b[0;32mdef\u001b[0m \u001b[0mskip_wrapper\u001b[0m\u001b[0;34m(\u001b[0m\u001b[0;34m*\u001b[0m\u001b[0margs\u001b[0m\u001b[0;34m,\u001b[0m \u001b[0;34m**\u001b[0m\u001b[0mkwargs\u001b[0m\u001b[0;34m)\u001b[0m\u001b[0;34m:\u001b[0m\u001b[0;34m\u001b[0m\u001b[0;34m\u001b[0m\u001b[0m\n\u001b[0;32m---> 95\u001b[0;31m                 \u001b[0;32mraise\u001b[0m \u001b[0mSkipTest\u001b[0m\u001b[0;34m(\u001b[0m\u001b[0mreason\u001b[0m\u001b[0;34m)\u001b[0m\u001b[0;34m\u001b[0m\u001b[0;34m\u001b[0m\u001b[0m\n\u001b[0m\u001b[1;32m     96\u001b[0m             \u001b[0mtest_item\u001b[0m \u001b[0;34m=\u001b[0m \u001b[0mskip_wrapper\u001b[0m\u001b[0;34m\u001b[0m\u001b[0;34m\u001b[0m\u001b[0m\n\u001b[1;32m     97\u001b[0m \u001b[0;34m\u001b[0m\u001b[0m\n",
            "\u001b[0;31mSkipTest\u001b[0m: Skipping even days."
          ]
        }
      ]
    },
    {
      "cell_type": "markdown",
      "source": [
        "# Exercise 3"
      ],
      "metadata": {
        "id": "HX1O6hCroUH0"
      }
    },
    {
      "cell_type": "code",
      "source": [
        "import sys\n",
        "\n",
        "\n",
        "class Container:\n",
        "\n",
        "    def __init__(self):\n",
        "        if sys.platform.startswith('win'):\n",
        "            self.code = 'XC-win'\n",
        "        else:\n",
        "            self.code = f'XC-{sys.platform}'\n",
        "\n",
        "\n",
        "class TestContainer(unittest.TestCase):\n",
        "\n",
        "    @unittest.skipUnless(sys.platform.startswith('win'), 'Requires Windows.')\n",
        "    def test_requires_windows(self):\n",
        "        c = Container()\n",
        "        self.assertEqual(c.code, 'XC-win')\n",
        "\n",
        "    @unittest.skipUnless(sys.platform.startswith('lin'), 'Requires Linux.')\n",
        "    def test_requires_linux(self):\n",
        "        c = Container()\n",
        "        self.assertEqual(c.code, 'XC-linux')"
      ],
      "metadata": {
        "id": "BzCne17Qnx_4"
      },
      "execution_count": 8,
      "outputs": []
    },
    {
      "cell_type": "code",
      "source": [
        "testContainer = TestContainer()\n",
        "testContainer.test_requires_windows()\n",
        "testContainer.test_requires_linux()"
      ],
      "metadata": {
        "colab": {
          "base_uri": "https://localhost:8080/",
          "height": 321
        },
        "id": "-5vR-Ka6olUn",
        "outputId": "3ac66bc3-ceb5-46c1-f19e-967a8425ab45"
      },
      "execution_count": 9,
      "outputs": [
        {
          "output_type": "error",
          "ename": "SkipTest",
          "evalue": "ignored",
          "traceback": [
            "\u001b[0;31m---------------------------------------------------------------------------\u001b[0m",
            "\u001b[0;31mSkipTest\u001b[0m                                  Traceback (most recent call last)",
            "\u001b[0;32m<ipython-input-9-7d3d9191ddb3>\u001b[0m in \u001b[0;36m<module>\u001b[0;34m\u001b[0m\n\u001b[1;32m      1\u001b[0m \u001b[0mtestContainer\u001b[0m \u001b[0;34m=\u001b[0m \u001b[0mTestContainer\u001b[0m\u001b[0;34m(\u001b[0m\u001b[0;34m)\u001b[0m\u001b[0;34m\u001b[0m\u001b[0;34m\u001b[0m\u001b[0m\n\u001b[0;32m----> 2\u001b[0;31m \u001b[0mtestContainer\u001b[0m\u001b[0;34m.\u001b[0m\u001b[0mtest_requires_windows\u001b[0m\u001b[0;34m(\u001b[0m\u001b[0;34m)\u001b[0m\u001b[0;34m\u001b[0m\u001b[0;34m\u001b[0m\u001b[0m\n\u001b[0m\u001b[1;32m      3\u001b[0m \u001b[0mtestContainer\u001b[0m\u001b[0;34m.\u001b[0m\u001b[0mtest_requires_linux\u001b[0m\u001b[0;34m(\u001b[0m\u001b[0;34m)\u001b[0m\u001b[0;34m\u001b[0m\u001b[0;34m\u001b[0m\u001b[0m\n",
            "\u001b[0;32m/usr/lib/python3.7/unittest/case.py\u001b[0m in \u001b[0;36mskip_wrapper\u001b[0;34m(*args, **kwargs)\u001b[0m\n\u001b[1;32m     93\u001b[0m             \u001b[0;34m@\u001b[0m\u001b[0mfunctools\u001b[0m\u001b[0;34m.\u001b[0m\u001b[0mwraps\u001b[0m\u001b[0;34m(\u001b[0m\u001b[0mtest_item\u001b[0m\u001b[0;34m)\u001b[0m\u001b[0;34m\u001b[0m\u001b[0;34m\u001b[0m\u001b[0m\n\u001b[1;32m     94\u001b[0m             \u001b[0;32mdef\u001b[0m \u001b[0mskip_wrapper\u001b[0m\u001b[0;34m(\u001b[0m\u001b[0;34m*\u001b[0m\u001b[0margs\u001b[0m\u001b[0;34m,\u001b[0m \u001b[0;34m**\u001b[0m\u001b[0mkwargs\u001b[0m\u001b[0;34m)\u001b[0m\u001b[0;34m:\u001b[0m\u001b[0;34m\u001b[0m\u001b[0;34m\u001b[0m\u001b[0m\n\u001b[0;32m---> 95\u001b[0;31m                 \u001b[0;32mraise\u001b[0m \u001b[0mSkipTest\u001b[0m\u001b[0;34m(\u001b[0m\u001b[0mreason\u001b[0m\u001b[0;34m)\u001b[0m\u001b[0;34m\u001b[0m\u001b[0;34m\u001b[0m\u001b[0m\n\u001b[0m\u001b[1;32m     96\u001b[0m             \u001b[0mtest_item\u001b[0m \u001b[0;34m=\u001b[0m \u001b[0mskip_wrapper\u001b[0m\u001b[0;34m\u001b[0m\u001b[0;34m\u001b[0m\u001b[0m\n\u001b[1;32m     97\u001b[0m \u001b[0;34m\u001b[0m\u001b[0m\n",
            "\u001b[0;31mSkipTest\u001b[0m: Requires Windows."
          ]
        }
      ]
    }
  ]
}