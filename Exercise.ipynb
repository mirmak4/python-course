{
  "nbformat": 4,
  "nbformat_minor": 0,
  "metadata": {
    "colab": {
      "provenance": [],
      "collapsed_sections": [
        "nwp92xEkO_Cu",
        "qO3Yq_crU_aV",
        "1oeabFudXyYd",
        "PyW9m2TRZOEQ"
      ],
      "toc_visible": true,
      "authorship_tag": "ABX9TyMDZ+S9Asyn+hEhHpxiCZEM",
      "include_colab_link": true
    },
    "kernelspec": {
      "name": "python3",
      "display_name": "Python 3"
    },
    "language_info": {
      "name": "python"
    }
  },
  "cells": [
    {
      "cell_type": "markdown",
      "metadata": {
        "id": "view-in-github",
        "colab_type": "text"
      },
      "source": [
        "<a href=\"https://colab.research.google.com/github/mirmak4/python-course/blob/main/Exercise.ipynb\" target=\"_parent\"><img src=\"https://colab.research.google.com/assets/colab-badge.svg\" alt=\"Open In Colab\"/></a>"
      ]
    },
    {
      "cell_type": "markdown",
      "source": [
        "# **Python Unittest Course Exercises**"
      ],
      "metadata": {
        "id": "g0GbcYuIPFXD"
      }
    },
    {
      "cell_type": "markdown",
      "source": [
        "# Unittest framework helpik\n",
        "\n",
        "Place the development code and test code in separate directories.  \n",
        "Use the command python -m unittest discover -v to discover and execute all the tests.  \n",
        "Use the command python -m unittest test_package.test_module -v to run a single test module.  \n",
        "Use the command python -m unittest test_package.test_module.TestClass -v to run a single test class."
      ],
      "metadata": {
        "id": "RI9yPAugSQRf"
      }
    },
    {
      "cell_type": "code",
      "source": [
        "import unittest"
      ],
      "metadata": {
        "id": "uMqklQ6YPCjc"
      },
      "execution_count": null,
      "outputs": []
    },
    {
      "cell_type": "markdown",
      "source": [
        "# Exercise 1"
      ],
      "metadata": {
        "id": "nwp92xEkO_Cu"
      }
    },
    {
      "cell_type": "code",
      "source": [
        "class TestSplitMethod(unittest.TestCase):\n",
        "  \n",
        "  def test_split_by_default(self):\n",
        "    self.assertEqual('Python Testing'.split(), ['Python', 'Testing'])\n",
        "\n",
        "  def test_split_by_comma(self):\n",
        "    actual = 'open,high,low,close'.split(',')\n",
        "    expected = ['open', 'high', 'low', 'close']\n",
        "    self.assertEqual(actual, expected)\n",
        "\n",
        "  def test_split_by_hash(self):\n",
        "    actual = 'summer#time#vibes'.split('#')\n",
        "    expected = ['summer', 'time', 'vibes']\n",
        "    self.assertEqual(actual, expected)"
      ],
      "metadata": {
        "id": "srlzStqiPXJm"
      },
      "execution_count": null,
      "outputs": []
    },
    {
      "cell_type": "code",
      "source": [],
      "metadata": {
        "id": "gEI3gqUmTW74"
      },
      "execution_count": null,
      "outputs": []
    },
    {
      "cell_type": "markdown",
      "source": [
        "# Exercise 2"
      ],
      "metadata": {
        "id": "qO3Yq_crU_aV"
      }
    },
    {
      "cell_type": "code",
      "source": [
        "class TestJoinMethod(unittest.TestCase):\n",
        "  \n",
        "  def test_join_with_space(self):\n",
        "    actual = ' '.join(['Python', '3.8'])\n",
        "    expected = 'Python 3.8'\n",
        "    self.assertEqual(actual, expected)\n",
        "\n",
        "  def test_join_with_comma(self):\n",
        "    actual = ','.join(['open', 'high', 'low', 'close'])\n",
        "    expected = 'open,high,low,close'\n",
        "    self.assertEqual(actual, expected)\n",
        "\n",
        "  def test_join_with_new_line_char(self):\n",
        "    actual = '\\n'.join(['open', 'high', 'low', 'close'])\n",
        "    expected = 'open\\nhigh\\nlow\\nclose'\n",
        "    self.assertEqual(actual, expected)"
      ],
      "metadata": {
        "id": "x7Eg5LrlVCP1"
      },
      "execution_count": null,
      "outputs": []
    },
    {
      "cell_type": "markdown",
      "source": [
        "# Exercise 4"
      ],
      "metadata": {
        "id": "1oeabFudXyYd"
      }
    },
    {
      "cell_type": "code",
      "source": [
        "from collections import Counter\n",
        "\n",
        "\n",
        "class TestIsInstance(unittest.TestCase):\n",
        "\n",
        "    def test_case_1(self):\n",
        "        self.assertTrue(isinstance((), tuple))\n",
        "\n",
        "    def test_case_2(self):\n",
        "        self.assertTrue(isinstance([], list))\n",
        "\n",
        "    def test_case_3(self):\n",
        "        self.assertTrue(isinstance({}, dict))\n",
        "\n",
        "    def test_case_4(self):\n",
        "        cnt = Counter()\n",
        "        self.assertTrue(isinstance(cnt, Counter))\n",
        "\n",
        "    def test_case_5(self):\n",
        "        var1 = 4\n",
        "        self.assertTrue(isinstance(var1, int))\n",
        "\n",
        "    def test_case_6(self):\n",
        "        var2 = 4,\n",
        "        self.assertTrue(isinstance(var2, tuple))"
      ],
      "metadata": {
        "id": "ScgwVh6fWI3g"
      },
      "execution_count": null,
      "outputs": []
    },
    {
      "cell_type": "code",
      "source": [
        "test = TestIsInstance()\n",
        "test.test_case_6()"
      ],
      "metadata": {
        "id": "9dnpJTp4YMPh"
      },
      "execution_count": null,
      "outputs": []
    },
    {
      "cell_type": "markdown",
      "source": [
        "# Exercise 5"
      ],
      "metadata": {
        "id": "PyW9m2TRZOEQ"
      }
    },
    {
      "cell_type": "code",
      "source": [
        "class TestUpper (unittest.TestCase):\n",
        "    def test_upper(self):\n",
        "        actual = 'summer'.upper()\n",
        "        expected = 'SUMMER'\n",
        "        self.assertEqual(actual, expected)\n",
        "\n",
        "    def test_is_upper(self):\n",
        "        self.assertTrue('SUMMER'.isupper())\n",
        "        self.assertFalse('summer'.isupper())"
      ],
      "metadata": {
        "id": "uP1qUReKY2jx"
      },
      "execution_count": null,
      "outputs": []
    },
    {
      "cell_type": "code",
      "source": [
        "test_upper = TestUpper()\n",
        "test_upper.test_upper()\n",
        "test_upper.test_is_upper()"
      ],
      "metadata": {
        "id": "ZAl8wayTa6Oo"
      },
      "execution_count": null,
      "outputs": []
    },
    {
      "cell_type": "markdown",
      "source": [
        "# Exercise 6"
      ],
      "metadata": {
        "id": "JsnX9YghbZkP"
      }
    },
    {
      "cell_type": "code",
      "source": [
        "class TestLower (unittest.TestCase):\n",
        "    def test_lower(self):\n",
        "        actual = 'Joe.Smith@mail.com'.lower()\n",
        "        expected = 'joe.smith@mail.com'\n",
        "        self.assertEqual(actual, expected)\n",
        "\n",
        "    def test_is_lower(self):\n",
        "        self.assertTrue('joe.smith@mail.com'.islower())\n",
        "        self.assertFalse('Joe.Smith@mail.com'.islower())"
      ],
      "metadata": {
        "id": "GItBG2XtbE_R"
      },
      "execution_count": null,
      "outputs": []
    },
    {
      "cell_type": "code",
      "source": [
        "test_lower = TestLower()\n",
        "test_lower.test_lower()\n",
        "test_lower.test_is_lower()"
      ],
      "metadata": {
        "id": "De74x1__b7Yz"
      },
      "execution_count": null,
      "outputs": []
    },
    {
      "cell_type": "code",
      "source": [],
      "metadata": {
        "id": "G9tI9IadcMar"
      },
      "execution_count": null,
      "outputs": []
    }
  ]
}