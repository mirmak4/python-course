{
  "nbformat": 4,
  "nbformat_minor": 0,
  "metadata": {
    "colab": {
      "provenance": [],
      "collapsed_sections": [
        "nwp92xEkO_Cu"
      ],
      "toc_visible": true,
      "authorship_tag": "ABX9TyMRLPM4ZvmTC8hJr3gUDtFQ",
      "include_colab_link": true
    },
    "kernelspec": {
      "name": "python3",
      "display_name": "Python 3"
    },
    "language_info": {
      "name": "python"
    }
  },
  "cells": [
    {
      "cell_type": "markdown",
      "metadata": {
        "id": "view-in-github",
        "colab_type": "text"
      },
      "source": [
        "<a href=\"https://colab.research.google.com/github/mirmak4/python-course/blob/main/Exercise.ipynb\" target=\"_parent\"><img src=\"https://colab.research.google.com/assets/colab-badge.svg\" alt=\"Open In Colab\"/></a>"
      ]
    },
    {
      "cell_type": "markdown",
      "source": [
        "# **Python Unittest Course Exercises**"
      ],
      "metadata": {
        "id": "g0GbcYuIPFXD"
      }
    },
    {
      "cell_type": "markdown",
      "source": [
        "# Unittest framework helpik\n",
        "\n",
        "Place the development code and test code in separate directories.  \n",
        "Use the command python -m unittest discover -v to discover and execute all the tests.  \n",
        "Use the command python -m unittest test_package.test_module -v to run a single test module.  \n",
        "Use the command python -m unittest test_package.test_module.TestClass -v to run a single test class."
      ],
      "metadata": {
        "id": "RI9yPAugSQRf"
      }
    },
    {
      "cell_type": "code",
      "source": [
        "import unittest"
      ],
      "metadata": {
        "id": "uMqklQ6YPCjc"
      },
      "execution_count": 1,
      "outputs": []
    },
    {
      "cell_type": "markdown",
      "source": [
        "# Exercise 1"
      ],
      "metadata": {
        "id": "nwp92xEkO_Cu"
      }
    },
    {
      "cell_type": "code",
      "source": [
        "class TestSplitMethod(unittest.TestCase):\n",
        "  \n",
        "  def test_split_by_default(self):\n",
        "    self.assertEqual('Python Testing'.split(), ['Python', 'Testing'])\n",
        "\n",
        "  def test_split_by_comma(self):\n",
        "    actual = 'open,high,low,close'.split(',')\n",
        "    expected = ['open', 'high', 'low', 'close']\n",
        "    self.assertEqual(actual, expected)\n",
        "\n",
        "  def test_split_by_hash(self):\n",
        "    actual = 'summer#time#vibes'.split('#')\n",
        "    expected = ['summer', 'time', 'vibes']\n",
        "    self.assertEqual(actual, expected)"
      ],
      "metadata": {
        "id": "srlzStqiPXJm"
      },
      "execution_count": 15,
      "outputs": []
    },
    {
      "cell_type": "code",
      "source": [],
      "metadata": {
        "id": "gEI3gqUmTW74"
      },
      "execution_count": null,
      "outputs": []
    },
    {
      "cell_type": "markdown",
      "source": [
        "# Exercise 2"
      ],
      "metadata": {
        "id": "qO3Yq_crU_aV"
      }
    },
    {
      "cell_type": "code",
      "source": [
        "class TestJoinMethod(unittest.TestCase):\n",
        "  \n",
        "  def test_join_with_space(self):\n",
        "    actual = ' '.join(['Python', '3.8'])\n",
        "    expected = 'Python 3.8'\n",
        "    self.assertEqual(actual, expected)\n",
        "\n",
        "  def test_join_with_comma(self):\n",
        "    actual = ','.join(['open', 'high', 'low', 'close'])\n",
        "    expected = 'open,high,low,close'\n",
        "    self.assertEqual(actual, expected)\n",
        "\n",
        "  def test_join_with_new_line_char(self):\n",
        "    actual = '\\n'.join(['open', 'high', 'low', 'close'])\n",
        "    expected = 'open\\nhigh\\nlow\\nclose'\n",
        "    self.assertEqual(actual, expected)"
      ],
      "metadata": {
        "id": "x7Eg5LrlVCP1"
      },
      "execution_count": 16,
      "outputs": []
    },
    {
      "cell_type": "code",
      "source": [],
      "metadata": {
        "id": "ScgwVh6fWI3g"
      },
      "execution_count": null,
      "outputs": []
    }
  ]
}