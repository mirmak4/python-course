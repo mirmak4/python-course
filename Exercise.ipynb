{
  "nbformat": 4,
  "nbformat_minor": 0,
  "metadata": {
    "colab": {
      "provenance": [],
      "collapsed_sections": [],
      "toc_visible": true,
      "authorship_tag": "ABX9TyNu3ywiBLg2N5q67P6oyfHZ",
      "include_colab_link": true
    },
    "kernelspec": {
      "name": "python3",
      "display_name": "Python 3"
    },
    "language_info": {
      "name": "python"
    }
  },
  "cells": [
    {
      "cell_type": "markdown",
      "metadata": {
        "id": "view-in-github",
        "colab_type": "text"
      },
      "source": [
        "<a href=\"https://colab.research.google.com/github/mirmak4/python-course/blob/main/Exercise.ipynb\" target=\"_parent\"><img src=\"https://colab.research.google.com/assets/colab-badge.svg\" alt=\"Open In Colab\"/></a>"
      ]
    },
    {
      "cell_type": "markdown",
      "source": [
        "# **Python Unittest Course Exercises**"
      ],
      "metadata": {
        "id": "g0GbcYuIPFXD"
      }
    },
    {
      "cell_type": "markdown",
      "source": [
        "# Unittest framework helpik\n",
        "\n",
        "Place the development code and test code in separate directories.  \n",
        "Use the command python -m unittest discover -v to discover and execute all the tests.  \n",
        "Use the command python -m unittest test_package.test_module -v to run a single test module.  \n",
        "Use the command python -m unittest test_package.test_module.TestClass -v to run a single test class."
      ],
      "metadata": {
        "id": "RI9yPAugSQRf"
      }
    },
    {
      "cell_type": "markdown",
      "source": [
        "# Exercise 1"
      ],
      "metadata": {
        "id": "nwp92xEkO_Cu"
      }
    },
    {
      "cell_type": "code",
      "source": [
        "import unittest"
      ],
      "metadata": {
        "id": "uMqklQ6YPCjc"
      },
      "execution_count": 1,
      "outputs": []
    },
    {
      "cell_type": "code",
      "source": [
        "epicsplit = TestSplitMethod()\n"
      ],
      "metadata": {
        "id": "tvuhpG66PoTX"
      },
      "execution_count": null,
      "outputs": []
    },
    {
      "cell_type": "code",
      "source": [
        "class TestSplitMethod(unittest.TestCase):\n",
        "  \n",
        "  def test_split_by_default(self):\n",
        "    assert 'Python Testing'.split() == ['Python', 'Testing']\n",
        "\n",
        "  def test_split_by_comma(self):\n",
        "    assert 'open,high,low,close'.split(',') == ['open', 'high', 'low', 'close']\n",
        "\n",
        "  def test_split_by_hash(self):\n",
        "    assert 'summer#time#vibes'.split('#') == ['summer', 'time', 'vibes']"
      ],
      "metadata": {
        "id": "srlzStqiPXJm"
      },
      "execution_count": 6,
      "outputs": []
    },
    {
      "cell_type": "code",
      "source": [],
      "metadata": {
        "id": "gEI3gqUmTW74"
      },
      "execution_count": null,
      "outputs": []
    }
  ]
}